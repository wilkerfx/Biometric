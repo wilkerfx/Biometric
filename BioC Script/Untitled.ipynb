{
 "cells": [
  {
   "cell_type": "code",
   "execution_count": 1,
   "metadata": {},
   "outputs": [
    {
     "name": "stdout",
     "output_type": "stream",
     "text": [
      "A Processar FL0728    06-07-2020F0301.00 10000\n",
      ".    .   .   .   .   .Processado.\n",
      "\n",
      "A Processar FL0122    06-07-2020F0301.00 10000\n",
      ".    .   .   .   .   .Processado.\n",
      "\n",
      "A Processar FL0142    06-07-2020F0301.00 10000\n",
      ".    .   .   .   .   .Processado.\n",
      "\n",
      "A Processar FL0241    06-07-2020F0301.00 10000\n",
      ".    .   .   .   .   .Processado.\n",
      "\n",
      "A Processar FL0276    06-07-2020F0301.00 10000\n",
      ".    .   .   .   .   .Processado.\n",
      "\n",
      "A Processar FL0097    06-07-2020F0301.00 10000\n",
      ".    .   .   .   .   .Processado.\n",
      "\n"
     ]
    }
   ],
   "source": [
    "import csv\n",
    "import os\n",
    "path =  \"/home/painkiller/PycharmProjects/Biometrico2/BioC Script/\"\n",
    "os.chdir(path)\n",
    "ficheiro = open('/home/painkiller/PycharmProjects/Biometrico2/BioC Script/output.txt', 'w')\n",
    "with open('wilker.csv', 'r') as csv_file:\n",
    "    reader = csv.reader(csv_file)\n",
    "    next(csv_file)\n",
    "    for row in reader:\n",
    "        if row[7] == 'Absence':\n",
    "            row[7] = '0'\n",
    "        else:\n",
    "            row[7] = '1'\n",
    "        ficheiro.write(str('F' + row[0] + '    ' + row[2] + 'F'+ row[7] + '301.00' + ' 10000' + '\\n'))\n",
    "    with open('output.txt', 'r') as ficheiro:\n",
    "        for y in ficheiro:\n",
    "            print(f'A Processar {y}.    .   .   .   .   .Processado.\\n')\n",
    "ficheiro.close()\n"
   ]
  },
  {
   "cell_type": "code",
   "execution_count": null,
   "metadata": {},
   "outputs": [],
   "source": []
  }
 ],
 "metadata": {
  "kernelspec": {
   "display_name": "Python 3",
   "language": "python",
   "name": "python3"
  },
  "language_info": {
   "codemirror_mode": {
    "name": "ipython",
    "version": 3
   },
   "file_extension": ".py",
   "mimetype": "text/x-python",
   "name": "python",
   "nbconvert_exporter": "python",
   "pygments_lexer": "ipython3",
   "version": "3.6.9"
  }
 },
 "nbformat": 4,
 "nbformat_minor": 4
}
